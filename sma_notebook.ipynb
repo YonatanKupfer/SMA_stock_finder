{
 "cells": [
  {
   "cell_type": "code",
   "execution_count": 1,
   "metadata": {},
   "outputs": [],
   "source": [
    "import pandas as pd\n",
    "import matplotlib.pyplot as plt\n",
    "import yfinance as yf\n",
    "pd.set_option('display.max_rows', 200)\n",
    "from datetime import date"
   ]
  },
  {
   "cell_type": "code",
   "execution_count": 2,
   "metadata": {},
   "outputs": [],
   "source": [
    "# # URL containing the list of S&P 500 companies\n",
    "# url = 'https://en.wikipedia.org/wiki/List_of_S%26P_500_companies'\n",
    "\n",
    "# # Read the table into a pandas DataFrame\n",
    "# tables = pd.read_html(url, header=0)\n",
    "# sp500_table = tables[0]\n",
    "\n",
    "# # Get the 'Symbol' column and convert it to a list\n",
    "# tickers = sp500_table['Symbol'].tolist()\n",
    "\n",
    "# stocks = [ticker.replace('.', '-') for ticker in tickers]\n"
   ]
  },
  {
   "cell_type": "code",
   "execution_count": 3,
   "metadata": {},
   "outputs": [],
   "source": [
    "# read the tickers from the portfolio\n",
    "df = pd.read_csv('portfolio.csv')\n",
    "stocks = df['Symbol'].tolist()"
   ]
  },
  {
   "cell_type": "code",
   "execution_count": 4,
   "metadata": {},
   "outputs": [],
   "source": [
    "def get_multiple_sma(stock):\n",
    "    try:\n",
    "        data = yf.download(stock, period='1y')\n",
    "        \n",
    "        # Calculate the SMAs\n",
    "        sma_200 = data['Close'].rolling(window=200).mean().iloc[-1]\n",
    "        sma_150 = data['Close'].rolling(window=150).mean().iloc[-1]\n",
    "        sma_100 = data['Close'].rolling(window=100).mean().iloc[-1]\n",
    "        sma_50 = data['Close'].rolling(window=50).mean().iloc[-1]\n",
    "\n",
    "        return sma_200, sma_150, sma_100, sma_50\n",
    "    except Exception as e:\n",
    "        print(f'Error fetching data for {stock}: {e}')\n",
    "        return None"
   ]
  },
  {
   "cell_type": "code",
   "execution_count": 5,
   "metadata": {},
   "outputs": [
    {
     "name": "stderr",
     "output_type": "stream",
     "text": [
      "[*********************100%%**********************]  1 of 1 completed\n",
      "[*********************100%%**********************]  1 of 1 completed\n",
      "[*********************100%%**********************]  1 of 1 completed\n",
      "[*********************100%%**********************]  1 of 1 completed\n",
      "[*********************100%%**********************]  1 of 1 completed\n",
      "[*********************100%%**********************]  1 of 1 completed\n",
      "[*********************100%%**********************]  1 of 1 completed\n",
      "[*********************100%%**********************]  1 of 1 completed\n",
      "[*********************100%%**********************]  1 of 1 completed\n"
     ]
    },
    {
     "ename": "KeyboardInterrupt",
     "evalue": "",
     "output_type": "error",
     "traceback": [
      "\u001b[1;31m---------------------------------------------------------------------------\u001b[0m",
      "\u001b[1;31mKeyboardInterrupt\u001b[0m                         Traceback (most recent call last)",
      "Input \u001b[1;32mIn [5]\u001b[0m, in \u001b[0;36m<cell line: 6>\u001b[1;34m()\u001b[0m\n\u001b[0;32m      7\u001b[0m \u001b[38;5;28;01mtry\u001b[39;00m:\n\u001b[0;32m      8\u001b[0m     current_price \u001b[38;5;241m=\u001b[39m yf\u001b[38;5;241m.\u001b[39mdownload(stock, period\u001b[38;5;241m=\u001b[39m\u001b[38;5;124m'\u001b[39m\u001b[38;5;124m1d\u001b[39m\u001b[38;5;124m'\u001b[39m)[\u001b[38;5;124m'\u001b[39m\u001b[38;5;124mClose\u001b[39m\u001b[38;5;124m'\u001b[39m]\u001b[38;5;241m.\u001b[39miloc[\u001b[38;5;241m-\u001b[39m\u001b[38;5;241m1\u001b[39m]\n\u001b[1;32m----> 9\u001b[0m     sma_values \u001b[38;5;241m=\u001b[39m \u001b[43mget_multiple_sma\u001b[49m\u001b[43m(\u001b[49m\u001b[43mstock\u001b[49m\u001b[43m)\u001b[49m\n\u001b[0;32m     10\u001b[0m     \u001b[38;5;28;01mif\u001b[39;00m sma_values \u001b[38;5;129;01mis\u001b[39;00m \u001b[38;5;129;01mnot\u001b[39;00m \u001b[38;5;28;01mNone\u001b[39;00m:\n\u001b[0;32m     11\u001b[0m         sma_200_data\u001b[38;5;241m.\u001b[39mappend({\u001b[38;5;124m'\u001b[39m\u001b[38;5;124mStock\u001b[39m\u001b[38;5;124m'\u001b[39m: stock, \u001b[38;5;124m'\u001b[39m\u001b[38;5;124mCurrent Price\u001b[39m\u001b[38;5;124m'\u001b[39m: current_price, \u001b[38;5;124m'\u001b[39m\u001b[38;5;124m200 SMA\u001b[39m\u001b[38;5;124m'\u001b[39m: sma_values[\u001b[38;5;241m0\u001b[39m]})\n",
      "Input \u001b[1;32mIn [4]\u001b[0m, in \u001b[0;36mget_multiple_sma\u001b[1;34m(stock)\u001b[0m\n\u001b[0;32m      1\u001b[0m \u001b[38;5;28;01mdef\u001b[39;00m \u001b[38;5;21mget_multiple_sma\u001b[39m(stock):\n\u001b[0;32m      2\u001b[0m     \u001b[38;5;28;01mtry\u001b[39;00m:\n\u001b[1;32m----> 3\u001b[0m         data \u001b[38;5;241m=\u001b[39m \u001b[43myf\u001b[49m\u001b[38;5;241;43m.\u001b[39;49m\u001b[43mdownload\u001b[49m\u001b[43m(\u001b[49m\u001b[43mstock\u001b[49m\u001b[43m,\u001b[49m\u001b[43m \u001b[49m\u001b[43mperiod\u001b[49m\u001b[38;5;241;43m=\u001b[39;49m\u001b[38;5;124;43m'\u001b[39;49m\u001b[38;5;124;43m1y\u001b[39;49m\u001b[38;5;124;43m'\u001b[39;49m\u001b[43m)\u001b[49m\n\u001b[0;32m      5\u001b[0m         \u001b[38;5;66;03m# Calculate the SMAs\u001b[39;00m\n\u001b[0;32m      6\u001b[0m         sma_200 \u001b[38;5;241m=\u001b[39m data[\u001b[38;5;124m'\u001b[39m\u001b[38;5;124mClose\u001b[39m\u001b[38;5;124m'\u001b[39m]\u001b[38;5;241m.\u001b[39mrolling(window\u001b[38;5;241m=\u001b[39m\u001b[38;5;241m200\u001b[39m)\u001b[38;5;241m.\u001b[39mmean()\u001b[38;5;241m.\u001b[39miloc[\u001b[38;5;241m-\u001b[39m\u001b[38;5;241m1\u001b[39m]\n",
      "File \u001b[1;32mc:\\Users\\yonat\\anaconda3\\lib\\site-packages\\yfinance\\utils.py:103\u001b[0m, in \u001b[0;36mlog_indent_decorator.<locals>.wrapper\u001b[1;34m(*args, **kwargs)\u001b[0m\n\u001b[0;32m    100\u001b[0m logger\u001b[38;5;241m.\u001b[39mdebug(\u001b[38;5;124mf\u001b[39m\u001b[38;5;124m'\u001b[39m\u001b[38;5;124mEntering \u001b[39m\u001b[38;5;132;01m{\u001b[39;00mfunc\u001b[38;5;241m.\u001b[39m\u001b[38;5;18m__name__\u001b[39m\u001b[38;5;132;01m}\u001b[39;00m\u001b[38;5;124m()\u001b[39m\u001b[38;5;124m'\u001b[39m)\n\u001b[0;32m    102\u001b[0m \u001b[38;5;28;01mwith\u001b[39;00m IndentationContext():\n\u001b[1;32m--> 103\u001b[0m     result \u001b[38;5;241m=\u001b[39m func(\u001b[38;5;241m*\u001b[39margs, \u001b[38;5;241m*\u001b[39m\u001b[38;5;241m*\u001b[39mkwargs)\n\u001b[0;32m    105\u001b[0m logger\u001b[38;5;241m.\u001b[39mdebug(\u001b[38;5;124mf\u001b[39m\u001b[38;5;124m'\u001b[39m\u001b[38;5;124mExiting \u001b[39m\u001b[38;5;132;01m{\u001b[39;00mfunc\u001b[38;5;241m.\u001b[39m\u001b[38;5;18m__name__\u001b[39m\u001b[38;5;132;01m}\u001b[39;00m\u001b[38;5;124m()\u001b[39m\u001b[38;5;124m'\u001b[39m)\n\u001b[0;32m    106\u001b[0m \u001b[38;5;28;01mreturn\u001b[39;00m result\n",
      "File \u001b[1;32mc:\\Users\\yonat\\anaconda3\\lib\\site-packages\\yfinance\\multi.py:163\u001b[0m, in \u001b[0;36mdownload\u001b[1;34m(tickers, start, end, actions, threads, ignore_tz, group_by, auto_adjust, back_adjust, repair, keepna, progress, period, show_errors, interval, prepost, proxy, rounding, timeout, session)\u001b[0m\n\u001b[0;32m    156\u001b[0m         _download_one_threaded(ticker, period\u001b[38;5;241m=\u001b[39mperiod, interval\u001b[38;5;241m=\u001b[39minterval,\n\u001b[0;32m    157\u001b[0m                                start\u001b[38;5;241m=\u001b[39mstart, end\u001b[38;5;241m=\u001b[39mend, prepost\u001b[38;5;241m=\u001b[39mprepost,\n\u001b[0;32m    158\u001b[0m                                actions\u001b[38;5;241m=\u001b[39mactions, auto_adjust\u001b[38;5;241m=\u001b[39mauto_adjust,\n\u001b[0;32m    159\u001b[0m                                back_adjust\u001b[38;5;241m=\u001b[39mback_adjust, repair\u001b[38;5;241m=\u001b[39mrepair, keepna\u001b[38;5;241m=\u001b[39mkeepna,\n\u001b[0;32m    160\u001b[0m                                progress\u001b[38;5;241m=\u001b[39m(progress \u001b[38;5;129;01mand\u001b[39;00m i \u001b[38;5;241m>\u001b[39m \u001b[38;5;241m0\u001b[39m), proxy\u001b[38;5;241m=\u001b[39mproxy,\n\u001b[0;32m    161\u001b[0m                                rounding\u001b[38;5;241m=\u001b[39mrounding, timeout\u001b[38;5;241m=\u001b[39mtimeout)\n\u001b[0;32m    162\u001b[0m     \u001b[38;5;28;01mwhile\u001b[39;00m \u001b[38;5;28mlen\u001b[39m(shared\u001b[38;5;241m.\u001b[39m_DFS) \u001b[38;5;241m<\u001b[39m \u001b[38;5;28mlen\u001b[39m(tickers):\n\u001b[1;32m--> 163\u001b[0m         \u001b[43m_time\u001b[49m\u001b[38;5;241;43m.\u001b[39;49m\u001b[43msleep\u001b[49m\u001b[43m(\u001b[49m\u001b[38;5;241;43m0.01\u001b[39;49m\u001b[43m)\u001b[49m\n\u001b[0;32m    164\u001b[0m \u001b[38;5;66;03m# download synchronously\u001b[39;00m\n\u001b[0;32m    165\u001b[0m \u001b[38;5;28;01melse\u001b[39;00m:\n\u001b[0;32m    166\u001b[0m     \u001b[38;5;28;01mfor\u001b[39;00m i, ticker \u001b[38;5;129;01min\u001b[39;00m \u001b[38;5;28menumerate\u001b[39m(tickers):\n",
      "\u001b[1;31mKeyboardInterrupt\u001b[0m: "
     ]
    }
   ],
   "source": [
    "sma_200_data = []\n",
    "sma_150_data = []\n",
    "sma_100_data = []\n",
    "sma_50_data = []\n",
    "unknown_tickers = []\n",
    "for stock in stocks:\n",
    "    try:\n",
    "        current_price = yf.download(stock, period='1d')['Close'].iloc[-1]\n",
    "        sma_values = get_multiple_sma(stock)\n",
    "        if sma_values is not None:\n",
    "            sma_200_data.append({'Stock': stock, 'Current Price': current_price, '200 SMA': sma_values[0]})\n",
    "            sma_150_data.append({'Stock': stock, 'Current Price': current_price, '150 SMA': sma_values[1]})\n",
    "            sma_100_data.append({'Stock': stock, 'Current Price': current_price, '100 SMA': sma_values[2]})\n",
    "            sma_50_data.append({'Stock': stock, 'Current Price': current_price, '50 SMA': sma_values[3]})\n",
    "        else:\n",
    "            unknown_tickers.append(stock)\n",
    "    except Exception as e:\n",
    "        print(f'Error fetching data for {stock}: {e}')\n",
    "        unknown_tickers.append(stock)"
   ]
  },
  {
   "cell_type": "code",
   "execution_count": null,
   "metadata": {},
   "outputs": [
    {
     "name": "stdout",
     "output_type": "stream",
     "text": [
      "Today date is:  2024-12-01\n"
     ]
    }
   ],
   "source": [
    "# Create a DataFrame\n",
    "df_200 = pd.DataFrame(sma_200_data)\n",
    "df_150 = pd.DataFrame(sma_150_data)\n",
    "df_100 = pd.DataFrame(sma_100_data)\n",
    "df_50 = pd.DataFrame(sma_50_data)\n",
    "\n",
    "# Calculate the distance from the 200 SMA in absolute terms\n",
    "df_200['Distance from 200 SMA'] = df_200['Current Price'] - df_200['200 SMA']\n",
    "df_150['Distance from 150 SMA'] = df_150['Current Price'] - df_150['150 SMA']\n",
    "df_100['Distance from 100 SMA'] = df_100['Current Price'] - df_100['100 SMA']\n",
    "df_50['Distance from 50 SMA'] = df_50['Current Price'] - df_50['50 SMA']\n",
    "\n",
    "df_150['Distance from 150 SMA %'] = (df_150['Distance from 150 SMA'] / df_150['Current Price']) * 100\n",
    "df_100['Distance from 100 SMA %'] = (df_100['Distance from 100 SMA'] / df_100['Current Price']) * 100\n",
    "\n",
    "\n",
    "\n",
    "\n",
    "\n",
    "# Sort the DataFrame by the distance from the 200 SMA\n",
    "df_200_sorted = df_200.sort_values(by='Distance from 200 SMA')\n",
    "#df_150_sorted = df_150.sort_values(by='Distance from 150 SMA')\n",
    "df_150_sorted = df_150.sort_values(by='Distance from 150 SMA %')\n",
    "# df_100_sorted = df_100.sort_values(by='Distance from 100 SMA')\n",
    "df_100_sorted = df_100.sort_values(by='Distance from 100 SMA %')\n",
    "df_50_sorted = df_50.sort_values(by='Distance from 50 SMA')\n",
    "\n",
    "print(\"Today date is: \", date.today())"
   ]
  },
  {
   "cell_type": "code",
   "execution_count": null,
   "metadata": {},
   "outputs": [
    {
     "name": "stdout",
     "output_type": "stream",
     "text": [
      "Stocks with the smallest distance from the 200 SMA:\n"
     ]
    }
   ],
   "source": [
    "print('Stocks with the smallest distance from the 200 SMA:')\n",
    "# print(df_200_sorted.head(20))"
   ]
  },
  {
   "cell_type": "code",
   "execution_count": null,
   "metadata": {},
   "outputs": [
    {
     "name": "stdout",
     "output_type": "stream",
     "text": [
      "Today date is:  2024-12-01\n",
      "Stocks with the smallest distance from the 150 SMA:\n",
      "     Stock  Distance from 150 SMA %\n",
      "73    SAVE              -329.943863\n",
      "53    MRNA              -115.732072\n",
      "63    SMCI               -84.956376\n",
      "55      EL               -37.337858\n",
      "105   CHPT               -29.256827\n",
      "74    CROX               -27.028979\n",
      "54     NVO               -19.658049\n",
      "61    PINS               -17.712402\n",
      "39    AMAT               -16.839444\n",
      "76      BP               -15.021496\n",
      "57    QCOM               -13.549907\n",
      "8      TGT               -13.085836\n",
      "64     AMD               -12.232985\n",
      "107    NIO                -9.677083\n",
      "68    LOGI                -9.228913\n",
      "85    INTC                -8.965492\n",
      "58     PFE                -8.524740\n",
      "96     AEO                -8.519405\n",
      "66     LLY                -8.337230\n",
      "49     HSY                -8.326347\n",
      "89      BA                -8.099844\n",
      "33     PEP                -4.610545\n",
      "86      KO                -3.484704\n",
      "69     PHG                -3.463045\n",
      "62     ARM                -3.151766\n",
      "28       F                -3.124886\n",
      "71    PARA                -2.047923\n",
      "77    RACE                -1.668278\n",
      "99      FL                -1.636317\n",
      "95     ANF                -1.156522\n",
      "19     JNJ                -0.642457\n",
      "93    GOOG                -0.615282\n",
      "108   ABNB                -0.479612\n",
      "94    MSFT                -0.279887\n",
      "87    ADBE                -0.150848\n",
      "88     UPS                 0.644023\n",
      "102   DELL                 0.794782\n",
      "31     TXN                 0.846142\n",
      "97     HPQ                 1.017971\n",
      "84     XOM                 1.084548\n",
      "81    UBER                 1.269963\n",
      "2     INTU                 1.616731\n",
      "48    BABA                 1.880740\n",
      "3      MDT                 1.982899\n",
      "41    NICE                 2.069723\n",
      "100    BBY                 2.110963\n",
      "6     SNPS                 2.510386\n",
      "70     DPZ                 3.790462\n",
      "1     WDAY                 4.644428\n",
      "24     CVX                 5.357084\n",
      "15      LI                 5.753520\n",
      "65     MCD                 5.835099\n",
      "16      PG                 5.883110\n",
      "34      GE                 6.027889\n",
      "38      VZ                 6.319350\n",
      "18     TSM                 6.554932\n",
      "36    CDNS                 7.550970\n",
      "11     ZIM                 8.256809\n",
      "90    AAPL                 8.703803\n",
      "104   LULU                 8.849603\n",
      "72   BRK-B                 9.232576\n",
      "10     LOW                 9.919536\n",
      "37     SAP                10.879323\n",
      "59      MA                10.978735\n",
      "46    SONY                11.041127\n",
      "101   COST                11.260938\n",
      "30       V                11.739152\n",
      "25     CAT                12.120391\n",
      "92    NVDA                12.439851\n",
      "45    MNDY                12.526418\n",
      "13    PANW                12.590018\n",
      "109    HLT                13.010654\n",
      "47      HD                13.828771\n",
      "35      GM                13.973737\n",
      "29       T                13.980425\n",
      "27     IBM                14.117205\n",
      "22     BAC                14.319649\n",
      "60    SBUX                14.917495\n",
      "44    CSCO                15.012891\n",
      "56     MAR                15.471305\n",
      "42      DE                16.460097\n",
      "83     DIS                16.603559\n",
      "17     AXP                16.620146\n",
      "26     AAL                17.634530\n",
      "98     CRM                17.887287\n",
      "0     DECK                18.682296\n",
      "23      GS                18.685959\n",
      "67    PYPL                19.134990\n",
      "20      MS                19.830155\n",
      "40     UAA                20.175078\n",
      "12      ZM                20.211354\n",
      "43     WMT                20.259388\n",
      "75    LYFT                20.372122\n",
      "103   MRVL                20.455643\n",
      "78       U                20.761788\n",
      "5       RL                20.963207\n",
      "51    BKNG                22.119391\n",
      "9     XPEV                22.347995\n",
      "52    EXPE                25.130717\n",
      "7     SNOW                25.382038\n",
      "50    FTNT                25.533300\n",
      "4     CLBT                26.411630\n",
      "14     WIX                27.294719\n",
      "32    SPOT                27.449233\n",
      "111    CCL                28.809805\n",
      "110    RCL                29.377256\n",
      "79    DUOL                33.237620\n",
      "91    TSLA                33.962878\n",
      "80    SHOP                36.471279\n",
      "106   VSCO                39.386028\n",
      "21     UAL                41.092707\n",
      "82    PLTR                49.373983\n"
     ]
    }
   ],
   "source": [
    "print(\"Today date is: \", date.today())\n",
    "print('Stocks with the smallest distance from the 150 SMA:')\n",
    "print(df_150_sorted[['Stock', 'Distance from 150 SMA %']])"
   ]
  },
  {
   "cell_type": "code",
   "execution_count": null,
   "metadata": {},
   "outputs": [
    {
     "name": "stdout",
     "output_type": "stream",
     "text": [
      "Today date is:  2024-12-01\n",
      "Stocks with the smallest distance from the 100 SMA:\n",
      "     Stock  Distance from 100 SMA %\n",
      "73    SAVE              -259.993914\n",
      "53    MRNA               -68.271361\n",
      "63    SMCI               -48.748501\n",
      "105   CHPT               -25.704915\n",
      "74    CROX               -21.607956\n",
      "55      EL               -21.422209\n",
      "54     NVO               -15.477993\n",
      "8      TGT               -12.517952\n",
      "39    AMAT               -11.269070\n",
      "66     LLY                -9.987782\n",
      "76      BP                -9.896624\n",
      "107    NIO                -9.814732\n",
      "64     AMD                -9.531352\n",
      "58     PFE                -9.194204\n",
      "49     HSY                -7.500877\n",
      "57    QCOM                -7.415506\n",
      "61    PINS                -6.876320\n",
      "69     PHG                -6.578195\n",
      "68    LOGI                -6.213254\n",
      "86      KO                -6.115946\n",
      "96     AEO                -5.336799\n",
      "99      FL                -4.736781\n",
      "77    RACE                -4.593628\n",
      "33     PEP                -4.374490\n",
      "62     ARM                -4.367456\n",
      "89      BA                -4.052237\n",
      "19     JNJ                -3.221280\n",
      "48    BABA                -2.442826\n",
      "87    ADBE                -2.025159\n",
      "100    BBY                -2.016667\n",
      "97     HPQ                -1.271803\n",
      "81    UBER                -0.721375\n",
      "31     TXN                -0.692087\n",
      "3      MDT                -0.003350\n",
      "84     XOM                 0.199898\n",
      "28       F                 0.314467\n",
      "94    MSFT                 0.452225\n",
      "71    PARA                 0.644243\n",
      "2     INTU                 0.971013\n",
      "85    INTC                 1.054051\n",
      "93    GOOG                 1.167051\n",
      "95     ANF                 1.841741\n",
      "88     UPS                 2.724139\n",
      "65     MCD                 2.745688\n",
      "1     WDAY                 2.983841\n",
      "18     TSM                 3.448719\n",
      "34      GE                 3.652395\n",
      "108   ABNB                 4.306297\n",
      "15      LI                 4.710094\n",
      "41    NICE                 4.746439\n",
      "90    AAPL                 4.919396\n",
      "38      VZ                 4.947677\n",
      "16      PG                 5.080941\n",
      "6     SNPS                 5.558002\n",
      "11     ZIM                 5.568062\n",
      "10     LOW                 5.903936\n",
      "102   DELL                 6.138331\n",
      "72   BRK-B                 6.147528\n",
      "37     SAP                 6.692553\n",
      "24     CVX                 6.926384\n",
      "45    MNDY                 7.397073\n",
      "46    SONY                 7.994311\n",
      "27     IBM                 8.585376\n",
      "59      MA                 8.632717\n",
      "92    NVDA                 8.831682\n",
      "101   COST                 8.984278\n",
      "13    PANW                 9.214844\n",
      "29       T                 9.467184\n",
      "70     DPZ                 9.729079\n",
      "25     CAT                 9.733591\n",
      "36    CDNS                 9.945666\n",
      "47      HD                10.196795\n",
      "109    HLT                10.327652\n",
      "60    SBUX                10.530938\n",
      "30       V                10.900275\n",
      "44    CSCO                12.149129\n",
      "35      GM                12.149488\n",
      "22     BAC                12.762574\n",
      "104   LULU                13.158237\n",
      "17     AXP                13.449059\n",
      "56     MAR                14.258154\n",
      "67    PYPL                14.761896\n",
      "40     UAA                15.296602\n",
      "23      GS                15.397375\n",
      "42      DE                15.542969\n",
      "43     WMT                15.579028\n",
      "98     CRM                15.951633\n",
      "20      MS                16.780336\n",
      "9     XPEV                16.965146\n",
      "12      ZM                17.078065\n",
      "4     CLBT                17.975472\n",
      "0     DECK                18.691930\n",
      "83     DIS                18.775859\n",
      "103   MRVL                18.928257\n",
      "5       RL                19.278866\n",
      "26     AAL                19.628790\n",
      "51    BKNG                19.757546\n",
      "50    FTNT                19.958445\n",
      "52    EXPE                20.249267\n",
      "78       U                21.076319\n",
      "32    SPOT                23.313421\n",
      "75    LYFT                24.555302\n",
      "111    CCL                24.660244\n",
      "110    RCL                24.787060\n",
      "14     WIX                24.847503\n",
      "91    TSLA                28.340799\n",
      "79    DUOL                28.583597\n",
      "7     SNOW                29.412473\n",
      "80    SHOP                32.333131\n",
      "106   VSCO                33.859423\n",
      "21     UAL                38.127958\n",
      "82    PLTR                41.418010\n"
     ]
    }
   ],
   "source": [
    "print(\"Today date is: \", date.today())\n",
    "print('Stocks with the smallest distance from the 100 SMA:')\n",
    "print(df_100_sorted[['Stock', 'Distance from 100 SMA %']])"
   ]
  },
  {
   "cell_type": "code",
   "execution_count": null,
   "metadata": {},
   "outputs": [
    {
     "name": "stdout",
     "output_type": "stream",
     "text": [
      "Stocks with the smallest distance from the 50 SMA:\n"
     ]
    }
   ],
   "source": [
    "print('Stocks with the smallest distance from the 50 SMA:')\n",
    "# print(df_50_sorted.head(10))"
   ]
  },
  {
   "cell_type": "code",
   "execution_count": null,
   "metadata": {},
   "outputs": [
    {
     "name": "stdout",
     "output_type": "stream",
     "text": [
      "Unknown tickers:\n",
      "['NFLX']\n"
     ]
    }
   ],
   "source": [
    "print('Unknown tickers:')\n",
    "print(unknown_tickers)"
   ]
  },
  {
   "cell_type": "code",
   "execution_count": null,
   "metadata": {},
   "outputs": [
    {
     "name": "stdout",
     "output_type": "stream",
     "text": [
      "Stocks with the smallest difference between 200 and 50 SMA:\n",
      "    Stock  Current Price_x  sma diff abs  sma diff\n",
      "58    PFE        26.209999      0.173750  0.173750\n",
      "78      U        24.110001      0.180950 -0.180950\n",
      "75   LYFT        17.360001      0.199400  0.199400\n",
      "26    AAL        14.520000      0.336350 -0.336350\n",
      "15     LI        23.680000      0.352425 -0.352425\n",
      "105  CHPT         1.220000      0.353100  0.353100\n",
      "107   NIO         4.480000      0.481000 -0.481000\n",
      "95    ANF       149.690002      0.483450  0.483450\n",
      "71   PARA        10.850000      0.488050  0.488050\n",
      "2    INTU       641.729980      0.605799 -0.605799\n",
      "28      F        11.130000      0.904200  0.904200\n",
      "94   MSFT       423.459991      0.978550  0.978550\n",
      "46   SONY        20.049999      1.034100 -1.034100\n",
      "24    CVX       161.929993      1.037901  1.037901\n",
      "40    UAA         9.710000      1.329200 -1.329200\n",
      "1    WDAY       249.990005      1.350850 -1.350850\n",
      "73   SAVE         0.640000      1.400858  1.400858\n",
      "99     FL        25.150000      1.430350  1.430350\n",
      "38     VZ        44.340000      1.636600 -1.636600\n",
      "96    AEO        19.240000      1.743900  1.743900\n"
     ]
    }
   ],
   "source": [
    "cross_df = pd.merge(df_200, df_50, on='Stock')\n",
    "\n",
    "cross_df['sma diff abs'] = abs(cross_df['200 SMA'] - cross_df['50 SMA'])\n",
    "cross_df['sma diff'] = cross_df['200 SMA'] - cross_df['50 SMA']\n",
    "\n",
    "columns_to_keep = ['Stock', 'Current Price_x', 'sma diff abs', 'sma diff']\n",
    "cross_df = cross_df[columns_to_keep]\n",
    "\n",
    "cross_df_sorted = cross_df.sort_values(by='sma diff abs')\n",
    "\n",
    "print('Stocks with the smallest difference between 200 and 50 SMA:')\n",
    "print(cross_df_sorted.head(20))"
   ]
  }
 ],
 "metadata": {
  "kernelspec": {
   "display_name": "base",
   "language": "python",
   "name": "python3"
  },
  "language_info": {
   "codemirror_mode": {
    "name": "ipython",
    "version": 3
   },
   "file_extension": ".py",
   "mimetype": "text/x-python",
   "name": "python",
   "nbconvert_exporter": "python",
   "pygments_lexer": "ipython3",
   "version": "3.9.12"
  }
 },
 "nbformat": 4,
 "nbformat_minor": 2
}
